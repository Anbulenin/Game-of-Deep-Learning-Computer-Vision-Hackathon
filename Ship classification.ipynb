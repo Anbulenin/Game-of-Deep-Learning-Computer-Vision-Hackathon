{
 "cells": [
  {
   "cell_type": "code",
   "execution_count": 1,
   "metadata": {},
   "outputs": [
    {
     "name": "stderr",
     "output_type": "stream",
     "text": [
      "Using TensorFlow backend.\n"
     ]
    }
   ],
   "source": [
    "import numpy as np # linear algebra\n",
    "import pandas as pd # data processing, CSV file I/O (e.g. pd.read_csv)\n",
    "from sklearn.metrics import confusion_matrix\n",
    "import cv2 \n",
    "import glob\n",
    "import matplotlib.pyplot as plt\n",
    "import tensorflow as tf \n",
    "from keras import applications\n",
    "from keras.models import Model\n",
    "from keras import optimizers\n",
    "from keras.layers import Input, Dense, Activation, ZeroPadding2D, BatchNormalization, Flatten, Conv2D, Dropout,GlobalAveragePooling2D\n",
    "#from keras import backend as K\n",
    "from keras import applications\n",
    "from keras.callbacks import ModelCheckpoint,EarlyStopping"
   ]
  },
  {
   "cell_type": "code",
   "execution_count": 2,
   "metadata": {},
   "outputs": [
    {
     "name": "stdout",
     "output_type": "stream",
     "text": [
      "Found 5002 images belonging to 5 classes.\n",
      "Found 1250 images belonging to 5 classes.\n"
     ]
    }
   ],
   "source": [
    "from keras.preprocessing.image import ImageDataGenerator\n",
    "train_datagen = ImageDataGenerator(rescale=1./255,\n",
    "                                   shear_range=0.2,\n",
    "                                   zoom_range=0.2,\n",
    "                                   horizontal_flip = True,\n",
    "                                   fill_mode = \"nearest\",\n",
    "                                   width_shift_range = 0.3,\n",
    "                                   height_shift_range=0.3,\n",
    "                                   rotation_range=30,\n",
    "                                   )\n",
    "#zoom-random\n",
    "#enough transformations\n",
    "validation_datagen = ImageDataGenerator(rescale=1./255)\n",
    "\n",
    "\n",
    "\n",
    "training_set = train_datagen.flow_from_directory(\n",
    "        '/home/anjali/Desktop/ship_classification/train_data',\n",
    "         batch_size=32,\n",
    "         class_mode='categorical',\n",
    "          target_size=(299,299))\n",
    "\n",
    "validation_set = validation_datagen.flow_from_directory(\n",
    "        '/home/anjali/Desktop/ship_classification/validation_data',\n",
    "         batch_size=32,\n",
    "         class_mode='categorical',\n",
    "         target_size=(299,299))"
   ]
  },
  {
   "cell_type": "code",
   "execution_count": 3,
   "metadata": {},
   "outputs": [],
   "source": [
    "model = applications.VGG19(weights = \"imagenet\", include_top=False,input_shape = ( 299, 299, 3))\n"
   ]
  },
  {
   "cell_type": "code",
   "execution_count": 4,
   "metadata": {},
   "outputs": [],
   "source": [
    "#model.summary()"
   ]
  },
  {
   "cell_type": "code",
   "execution_count": 5,
   "metadata": {},
   "outputs": [],
   "source": [
    "input = Input(shape=(299,299,3),name = 'image_input')\n",
    "output = model(input)"
   ]
  },
  {
   "cell_type": "code",
   "execution_count": 6,
   "metadata": {},
   "outputs": [],
   "source": [
    "x = Flatten(name='flatten')(output)#fetching weights from our model \n",
    "x = Dense(2048, activation='relu', name='fc1')(x)\n",
    "x = Dense(2048, activation='relu', name='fc2')(x)\n",
    "x = Dense(5, activation='softmax', name='predictions')(x)"
   ]
  },
  {
   "cell_type": "code",
   "execution_count": 7,
   "metadata": {},
   "outputs": [],
   "source": [
    "model = Model(inputs=input, outputs=x)\n",
    "model.compile(loss = \"categorical_crossentropy\", optimizer = optimizers.SGD(lr=0.0001, momentum=0.9), metrics=[\"accuracy\"])"
   ]
  },
  {
   "cell_type": "code",
   "execution_count": 8,
   "metadata": {},
   "outputs": [],
   "source": [
    "#model.summary()"
   ]
  },
  {
   "cell_type": "code",
   "execution_count": 10,
   "metadata": {},
   "outputs": [
    {
     "name": "stdout",
     "output_type": "stream",
     "text": [
      "Epoch 1/10\n",
      "1000/1000 [==============================] - 2553s 3s/step - loss: 0.6559 - acc: 0.7400 - val_loss: 0.4760 - val_acc: 0.8352\n",
      "Epoch 2/10\n",
      "1000/1000 [==============================] - 2088s 2s/step - loss: 0.2890 - acc: 0.8911 - val_loss: 0.3045 - val_acc: 0.8914\n",
      "Epoch 3/10\n",
      "1000/1000 [==============================] - 1498s 1s/step - loss: 0.2046 - acc: 0.9244 - val_loss: 0.2959 - val_acc: 0.8997\n",
      "Epoch 4/10\n",
      "1000/1000 [==============================] - 1501s 2s/step - loss: 0.1606 - acc: 0.9406 - val_loss: 0.2570 - val_acc: 0.9216\n",
      "Epoch 5/10\n",
      "1000/1000 [==============================] - 1493s 1s/step - loss: 0.1327 - acc: 0.9509 - val_loss: 0.2549 - val_acc: 0.9146\n",
      "Epoch 6/10\n",
      "1000/1000 [==============================] - 1495s 1s/step - loss: 0.1095 - acc: 0.9598 - val_loss: 0.3124 - val_acc: 0.9183\n",
      "Epoch 7/10\n",
      "1000/1000 [==============================] - 1497s 1s/step - loss: 0.0874 - acc: 0.9680 - val_loss: 0.3733 - val_acc: 0.9051\n",
      "Epoch 00007: early stopping\n"
     ]
    }
   ],
   "source": [
    "early = EarlyStopping(monitor='val_acc', min_delta=0, patience=3, verbose=1, mode='auto')\n",
    "history=model.fit_generator(\n",
    "training_set,\n",
    "steps_per_epoch = 1000,\n",
    "epochs =10,\n",
    "validation_data = validation_set,\n",
    "validation_steps = 124,\n",
    "callbacks = [ early])"
   ]
  },
  {
   "cell_type": "code",
   "execution_count": 11,
   "metadata": {},
   "outputs": [
    {
     "data": {
      "text/plain": [
       "<keras.callbacks.History at 0x7f9c33531be0>"
      ]
     },
     "execution_count": 11,
     "metadata": {},
     "output_type": "execute_result"
    }
   ],
   "source": [
    "history"
   ]
  },
  {
   "cell_type": "code",
   "execution_count": 12,
   "metadata": {},
   "outputs": [],
   "source": [
    "model.save('model1.h5')"
   ]
  },
  {
   "cell_type": "code",
   "execution_count": 13,
   "metadata": {},
   "outputs": [
    {
     "name": "stdout",
     "output_type": "stream",
     "text": [
      "40/40 [==============================] - 19s 474ms/step\n"
     ]
    }
   ],
   "source": [
    "pred1 = model.predict_generator(validation_set,steps=len(validation_set), verbose=1)"
   ]
  },
  {
   "cell_type": "code",
   "execution_count": 16,
   "metadata": {},
   "outputs": [],
   "source": [
    "\n",
    "predicted_classes = np.argmax(pred1, axis=1)"
   ]
  },
  {
   "cell_type": "code",
   "execution_count": 17,
   "metadata": {},
   "outputs": [],
   "source": [
    "true_classes = validation_set.classes\n",
    "class_labels = list(validation_set.class_indices.keys())  "
   ]
  },
  {
   "cell_type": "code",
   "execution_count": 19,
   "metadata": {},
   "outputs": [
    {
     "name": "stdout",
     "output_type": "stream",
     "text": [
      "              precision    recall  f1-score   support\n",
      "\n",
      "           1       0.34      0.39      0.36       425\n",
      "           2       0.17      0.15      0.16       233\n",
      "           3       0.16      0.15      0.16       183\n",
      "           4       0.18      0.17      0.17       166\n",
      "           5       0.23      0.21      0.22       243\n",
      "\n",
      "   micro avg       0.25      0.25      0.25      1250\n",
      "   macro avg       0.21      0.21      0.21      1250\n",
      "weighted avg       0.24      0.25      0.24      1250\n",
      "\n"
     ]
    }
   ],
   "source": [
    "import sklearn.metrics as metrics\n",
    "report = metrics.classification_report(true_classes, predicted_classes, target_names=class_labels)\n",
    "print(report)    "
   ]
  },
  {
   "cell_type": "code",
   "execution_count": 20,
   "metadata": {},
   "outputs": [
    {
     "data": {
      "image/png": "[encoded data removed]",
      "text/plain": [
       "<Figure size 360x360 with 1 Axes>"
      ]
     },
     "metadata": {
      "needs_background": "light"
     },
     "output_type": "display_data"
    }
   ],
   "source": [
    "conf_mat = confusion_matrix(true_classes, predicted_classes) \n",
    "from mlxtend.plotting import plot_confusion_matrix\n",
    "fig, ax = plot_confusion_matrix(conf_mat = conf_mat ,  figsize=(5, 5))\n",
    "plt.show()"
   ]
  },
  {
   "cell_type": "code",
   "execution_count": null,
   "metadata": {},
   "outputs": [],
   "source": []
  }
 ],
 "metadata": {
  "kernelspec": {
   "display_name": "Python 3",
   "language": "python",
   "name": "python3"
  },
  "language_info": {
   "codemirror_mode": {
    "name": "ipython",
    "version": 3
   },
   "file_extension": ".py",
   "mimetype": "text/x-python",
   "name": "python",
   "nbconvert_exporter": "python",
   "pygments_lexer": "ipython3",
   "version": "3.7.3"
  }
 },
 "nbformat": 4,
 "nbformat_minor": 2
}
